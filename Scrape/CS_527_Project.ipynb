{
 "cells": [
  {
   "cell_type": "code",
   "execution_count": 1,
   "id": "db0a8251",
   "metadata": {},
   "outputs": [],
   "source": [
    "import requests\n",
    "from bs4 import BeautifulSoup\n",
    "\n",
    "page = requests.get('https://www.paddlepaddle.org.cn/documentation/docs/en/api/index_en.html')\n",
    "soup = BeautifulSoup(page.text, 'html.parser')\n",
    "base_url = 'https://www.paddlepaddle.org.cn'\n",
    "\n",
    "links = soup.findAll(class_='reference internal')\n",
    "api_documentation_links = []\n",
    "\n",
    "final = []\n",
    "for link in links:\n",
    "    elems = link['href'].split('/')\n",
    "    if 'api' in elems:\n",
    "        index = elems.index('api')\n",
    "        final.append(\".\".join(elems[index+1:])[:-8])\n",
    "        api_documentation_links.append(base_url + link['href'])\n",
    "\n",
    "f = open(\"list_apis.txt\", \"a\")\n",
    "for l in final:\n",
    "    f.write(l)\n",
    "    f.write(\"\\n\")\n",
    "f.close()"
   ]
  },
  {
   "cell_type": "code",
   "execution_count": 101,
   "id": "de966005",
   "metadata": {},
   "outputs": [
    {
     "data": {
      "text/plain": [
       "'https://www.paddlepaddle.org.cn/documentation/docs/en/api/paddle/vision/models/densenet201_en.html'"
      ]
     },
     "execution_count": 101,
     "metadata": {},
     "output_type": "execute_result"
    }
   ],
   "source": [
    "api_documentation_links[1629]"
   ]
  },
  {
   "cell_type": "code",
   "execution_count": 2,
   "id": "67a28ab7",
   "metadata": {},
   "outputs": [],
   "source": [
    "import os\n",
    "import shutil\n",
    "\n",
    "path = './api_documentation_code/'\n",
    "if os.path.exists(path):\n",
    "    shutil.rmtree(path)\n",
    "if not os.path.exists(path):\n",
    "    os.mkdir(path)"
   ]
  },
  {
   "cell_type": "code",
   "execution_count": 95,
   "id": "ff0a4d3a",
   "metadata": {},
   "outputs": [
    {
     "name": "stderr",
     "output_type": "stream",
     "text": [
      "C:\\Users\\phalt\\AppData\\Local\\Temp\\ipykernel_36636\\3398227689.py:6: DeprecationWarning: executable_path has been deprecated, please pass in a Service object\n",
      "  driver = webdriver.Chrome(\"E:/UIUC/Spring 2023/CS 527/FreeFuzz/Scrape/chromedriver.exe\")\n"
     ]
    }
   ],
   "source": [
    "from selenium import webdriver\n",
    "from selenium.webdriver.common.by import By\n",
    "import time\n",
    " \n",
    "# WebDriver Chrome\n",
    "driver = webdriver.Chrome(\"E:/UIUC/Spring 2023/CS 527/FreeFuzz/Scrape/chromedriver.exe\")"
   ]
  },
  {
   "cell_type": "code",
   "execution_count": 98,
   "id": "ecf11b90",
   "metadata": {},
   "outputs": [],
   "source": [
    "class dummy:\n",
    "    text = \"\"\n",
    "    def __init__(self):\n",
    "        text = \"\""
   ]
  },
  {
   "cell_type": "code",
   "execution_count": 99,
   "id": "9018257e",
   "metadata": {
    "scrolled": true
   },
   "outputs": [
    {
     "name": "stdout",
     "output_type": "stream",
     "text": [
      "No example for 1538\n",
      "API Definition Issue for 1539\n",
      "API Definition Issue for 1540\n",
      "No example for 1541\n",
      "No example for 1542\n",
      "No example for 1543\n",
      "No example for 1544\n",
      "No example for 1545\n",
      "No example for 1546\n",
      "No example for 1547\n",
      "No example for 1548\n",
      "No example for 1549\n",
      "API Definition Issue for 1550\n",
      "API Definition Issue for 1551\n",
      "API Definition Issue for 1552\n",
      "API Definition Issue for 1553\n",
      "API Definition Issue for 1554\n",
      "No example for 1555\n",
      "No example for 1556\n",
      "API Definition Issue for 1557\n",
      "API Definition Issue for 1558\n",
      "No example for 1559\n",
      "No example for 1560\n",
      "No example for 1561\n",
      "No example for 1562\n",
      "No example for 1563\n",
      "API Definition Issue for 1564\n",
      "No example for 1565\n",
      "No example for 1566\n",
      "No example for 1567\n",
      "No example for 1568\n",
      "API Definition Issue for 1569\n",
      "No example for 1570\n",
      "No example for 1571\n",
      "API Definition Issue for 1572\n",
      "API Definition Issue for 1573\n",
      "API Definition Issue for 1574\n",
      "No example for 1575\n",
      "API Definition Issue for 1576\n",
      "API Definition Issue for 1577\n",
      "API Definition Issue for 1578\n",
      "API Definition Issue for 1579\n",
      "API Definition Issue for 1580\n",
      "API Definition Issue for 1581\n",
      "API Definition Issue for 1582\n",
      "API Definition Issue for 1583\n",
      "API Definition Issue for 1584\n",
      "API Definition Issue for 1585\n",
      "API Definition Issue for 1586\n",
      "API Definition Issue for 1587\n",
      "API Definition Issue for 1588\n",
      "API Definition Issue for 1589\n",
      "API Definition Issue for 1590\n",
      "API Definition Issue for 1591\n",
      "No example for 1592\n",
      "API Definition Issue for 1593\n",
      "API Definition Issue for 1594\n",
      "API Definition Issue for 1595\n",
      "No example for 1596\n",
      "No example for 1597\n",
      "No example for 1598\n",
      "API Definition Issue for 1599\n",
      "No example for 1600\n",
      "API Definition Issue for 1601\n",
      "API Definition Issue for 1602\n",
      "API Definition Issue for 1603\n",
      "API Definition Issue for 1604\n",
      "API Definition Issue for 1605\n",
      "No example for 1606\n",
      "API Definition Issue for 1607\n",
      "API Definition Issue for 1608\n",
      "API Definition Issue for 1609\n",
      "API Definition Issue for 1610\n",
      "API Definition Issue for 1611\n",
      "API Definition Issue for 1612\n",
      "API Definition Issue for 1613\n",
      "API Definition Issue for 1614\n",
      "API Definition Issue for 1615\n",
      "API Definition Issue for 1616\n",
      "API Definition Issue for 1617\n",
      "API Definition Issue for 1618\n",
      "API Definition Issue for 1619\n",
      "API Definition Issue for 1620\n",
      "API Definition Issue for 1621\n",
      "API Definition Issue for 1622\n",
      "API Definition Issue for 1623\n",
      "API Definition Issue for 1624\n",
      "API Definition Issue for 1625\n",
      "API Definition Issue for 1626\n",
      "API Definition Issue for 1627\n"
     ]
    }
   ],
   "source": [
    "api_def_file = open(\"api_def.txt\", \"a\")\n",
    "for i in range(1538, 1628):\n",
    "    if i in [239,1628]:\n",
    "        continue\n",
    "    driver.get(api_documentation_links[i])\n",
    "    time.sleep(3)\n",
    "    try:\n",
    "        api_def = driver.find_elements(By.XPATH, \"/html/body/div[5]/div/div[7]/div/div[4]/div[4]/div/div/div/dl/dt\")[0]\n",
    "    except:\n",
    "        api_def = driver.find_elements(By.XPATH, \"/html/body/div[4]/div/div[7]/div/div[4]/div[4]/div/div/div/dl/dt\")[0]\n",
    "    try:    \n",
    "        example = driver.find_elements(By.XPATH, \"/html/body/div[5]/div/div[7]/div/div[4]/div[4]/div/div/div/dl/dd/div\")[-1]\n",
    "    except:\n",
    "        try:\n",
    "            example = driver.find_elements(By.XPATH, \"/html/body/div[4]/div/div[7]/div/div[4]/div[4]/div/div/div/dl/dd/div\")[-1]\n",
    "        except:\n",
    "            print(f\"No example for {i}\")\n",
    "            example = dummy()\n",
    "    finally:\n",
    "        try:\n",
    "            api_def_file.write(api_def.text[:-9].replace(\" \",\"\"))\n",
    "            api_def_file.write(\"\\n\")\n",
    "            \n",
    "            if type(example).__name__ != 'dummy':\n",
    "                example_file = open(path + final[i].replace(\".\",\"_\") + \".py\",\"w+\")\n",
    "                example_file.write(example.text)\n",
    "                example_file.close()\n",
    "        except:\n",
    "            print(f\"API Definition Issue for {i}\")\n",
    "api_def_file.close()"
   ]
  },
  {
   "cell_type": "code",
   "execution_count": null,
   "id": "2a305445",
   "metadata": {},
   "outputs": [],
   "source": [
    "print(i)\n",
    "print(api_def.text)"
   ]
  },
  {
   "cell_type": "code",
   "execution_count": null,
   "id": "2ab94419",
   "metadata": {},
   "outputs": [],
   "source": [
    "driver.close()"
   ]
  },
  {
   "cell_type": "code",
   "execution_count": null,
   "id": "dc8e9b38",
   "metadata": {},
   "outputs": [],
   "source": [
    "element = driver.find_elements(By.XPATH, \"/html/body/div[5]/div/div[7]/div/div[4]/div[4]/div/div/div/dl/dt\")\n",
    "\n",
    "element[0].text[:-9].replace(\" \",\"\")"
   ]
  },
  {
   "cell_type": "code",
   "execution_count": null,
   "id": "216480f6",
   "metadata": {},
   "outputs": [],
   "source": [
    "element2 = driver.find_elements(By.XPATH, \"/html/body/div[5]/div/div[7]/div/div[4]/div[4]/div/div/div/dl/dd/div\")\n",
    "\n",
    "element2[0].text"
   ]
  }
 ],
 "metadata": {
  "kernelspec": {
   "display_name": "Python 3 (ipykernel)",
   "language": "python",
   "name": "python3"
  },
  "language_info": {
   "codemirror_mode": {
    "name": "ipython",
    "version": 3
   },
   "file_extension": ".py",
   "mimetype": "text/x-python",
   "name": "python",
   "nbconvert_exporter": "python",
   "pygments_lexer": "ipython3",
   "version": "3.9.12"
  }
 },
 "nbformat": 4,
 "nbformat_minor": 5
}
