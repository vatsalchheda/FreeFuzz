{
 "cells": [
  {
   "cell_type": "code",
   "execution_count": 1,
   "id": "db0a8251",
   "metadata": {},
   "outputs": [],
   "source": [
    "import requests\n",
    "from bs4 import BeautifulSoup\n",
    "\n",
    "page = requests.get('https://www.paddlepaddle.org.cn/documentation/docs/en/api/index_en.html')\n",
    "soup = BeautifulSoup(page.text, 'html.parser')\n",
    "base_url = 'https://www.paddlepaddle.org.cn'\n",
    "\n",
    "links = soup.findAll(class_='reference internal')\n",
    "api_documentation_links = []\n",
    "\n",
    "final = []\n",
    "for link in links:\n",
    "    elems = link['href'].split('/')\n",
    "    if 'api' in elems:\n",
    "        index = elems.index('api')\n",
    "        final.append(\".\".join(elems[index+1:])[:-8])\n",
    "        api_documentation_links.append(base_url + link['href'])\n",
    "\n",
    "f = open(\"list_apis.txt\", \"a\")\n",
    "for l in final:\n",
    "    f.write(l)\n",
    "    f.write(\"\\n\")\n",
    "f.close()"
   ]
  },
  {
   "cell_type": "code",
   "execution_count": 2,
   "id": "e5d7f1b6",
   "metadata": {},
   "outputs": [],
   "source": [
    "import os\n",
    "import shutil\n",
    "\n",
    "path = './api_documentation_code/'\n",
    "if os.path.exists(path):\n",
    "    shutil.rmtree(path)\n",
    "if not os.path.exists(path):\n",
    "    os.mkdir(path)"
   ]
  },
  {
   "cell_type": "code",
   "execution_count": 49,
   "id": "ff0a4d3a",
   "metadata": {},
   "outputs": [
    {
     "name": "stderr",
     "output_type": "stream",
     "text": [
      "C:\\Users\\phalt\\AppData\\Local\\Temp\\ipykernel_5140\\3398227689.py:6: DeprecationWarning: executable_path has been deprecated, please pass in a Service object\n",
      "  driver = webdriver.Chrome(\"E:/UIUC/Spring 2023/CS 527/FreeFuzz/Scrape/chromedriver.exe\")\n"
     ]
    }
   ],
   "source": [
    "from selenium import webdriver\n",
    "from selenium.webdriver.common.by import By\n",
    "import time\n",
    " \n",
    "# WebDriver Chrome\n",
    "driver = webdriver.Chrome(\"E:/UIUC/Spring 2023/CS 527/FreeFuzz/Scrape/chromedriver.exe\")"
   ]
  },
  {
   "cell_type": "code",
   "execution_count": 4,
   "id": "3ad7e572",
   "metadata": {},
   "outputs": [],
   "source": [
    "class dummy:\n",
    "    text = \"\"\n",
    "    def __init__(self):\n",
    "        text = \"\""
   ]
  },
  {
   "cell_type": "code",
   "execution_count": null,
   "id": "fe7aeaed",
   "metadata": {
    "scrolled": true
   },
   "outputs": [
    {
     "name": "stdout",
     "output_type": "stream",
     "text": [
      "No example for 476\n",
      "No example for 488\n",
      "No example for 489\n",
      "No example for 494\n",
      "No example for 495\n",
      "No example for 496\n",
      "No example for 497\n",
      "No example for 498\n",
      "No example for 504\n",
      "No example for 505\n",
      "No example for 506\n",
      "No example for 507\n",
      "No example for 508\n",
      "No example for 509\n",
      "No example for 510\n",
      "No example for 511\n",
      "No example for 512\n",
      "No example for 513\n",
      "No example for 514\n",
      "No example for 515\n",
      "No example for 516\n",
      "No example for 517\n",
      "No example for 520\n",
      "No example for 521\n",
      "No example for 522\n",
      "No example for 523\n",
      "No example for 524\n",
      "No example for 525\n",
      "No example for 526\n",
      "No example for 527\n",
      "No example for 528\n",
      "No example for 530\n",
      "No example for 531\n",
      "No example for 535\n",
      "No example for 540\n",
      "No example for 544\n",
      "No example for 546\n",
      "No example for 548\n",
      "No example for 549\n",
      "No example for 550\n",
      "No example for 551\n",
      "No example for 552\n",
      "No example for 553\n",
      "No example for 557\n",
      "No example for 564\n",
      "No example for 565\n",
      "No example for 567\n",
      "No example for 568\n",
      "No example for 569\n",
      "No example for 570\n",
      "No example for 571\n",
      "No example for 572\n",
      "No example for 573\n",
      "No example for 574\n",
      "No example for 575\n",
      "No example for 576\n",
      "No example for 577\n",
      "No example for 578\n",
      "No example for 579\n",
      "No example for 608\n",
      "No example for 618\n",
      "No example for 619\n",
      "No example for 639\n",
      "No example for 662\n",
      "No example for 663\n",
      "No example for 707\n",
      "No example for 708\n",
      "No example for 709\n",
      "No example for 710\n",
      "No example for 711\n",
      "No example for 715\n",
      "No example for 717\n"
     ]
    }
   ],
   "source": [
    "api_def_file = open(\"api_def.txt\", \"a\")\n",
    "for i in range(476, len(final)):\n",
    "    driver.get(api_documentation_links[i])\n",
    "    time.sleep(3)\n",
    "    try:\n",
    "        api_def = driver.find_elements(By.XPATH, \"/html/body/div[5]/div/div[7]/div/div[4]/div[4]/div/div/div/dl/dt\")[0]\n",
    "    except:\n",
    "        api_def = driver.find_elements(By.XPATH, \"/html/body/div[4]/div/div[7]/div/div[4]/div[4]/div/div/div/dl/dt\")[0]\n",
    "    try:    \n",
    "        example = driver.find_elements(By.XPATH, \"/html/body/div[5]/div/div[7]/div/div[4]/div[4]/div/div/div/dl/dd/div\")[-1]\n",
    "    except:\n",
    "        try:\n",
    "            example = driver.find_elements(By.XPATH, \"/html/body/div[4]/div/div[7]/div/div[4]/div[4]/div/div/div/dl/dd/div\")[-1]\n",
    "        except:\n",
    "            print(f\"No example for {i}\")\n",
    "            example = dummy()\n",
    "    finally:\n",
    "        try:\n",
    "            api_def_file.write(api_def.text[:-9].replace(\" \",\"\"))\n",
    "            api_def_file.write(\"\\n\")\n",
    "\n",
    "            example_file = open(path + final[i].replace(\".\",\"_\") + \".py\",\"w+\")\n",
    "            example_file.write(example.text)\n",
    "            example_file.close()\n",
    "        except:\n",
    "            print(f\"API Definition Issue for {i}\")\n",
    "api_def_file.close()"
   ]
  },
  {
   "cell_type": "code",
   "execution_count": 60,
   "id": "bb2e0901",
   "metadata": {},
   "outputs": [
    {
     "name": "stdout",
     "output_type": "stream",
     "text": [
      "476\n",
      "paddle.fluid.contrib.layers.nn. search_pyramid_hash ( input, num_emb, space_len, pyramid_layer, rand_len, drop_out_percent, is_training, use_filter, white_list_len, black_list_len, seed, lr, param_attr=None, param_attr_wl=None, param_attr_bl=None, name=None, distribute_update_vars=None, dtype='float32' ) [source]\n"
     ]
    }
   ],
   "source": [
    "print(i)\n",
    "print(api_def.text)"
   ]
  },
  {
   "cell_type": "code",
   "execution_count": null,
   "id": "cb49da7a",
   "metadata": {},
   "outputs": [],
   "source": [
    "driver.close()"
   ]
  },
  {
   "cell_type": "code",
   "execution_count": null,
   "id": "dc8e9b38",
   "metadata": {},
   "outputs": [],
   "source": [
    "element = driver.find_elements(By.XPATH, \"/html/body/div[5]/div/div[7]/div/div[4]/div[4]/div/div/div/dl/dt\")\n",
    "\n",
    "element[0].text[:-9].replace(\" \",\"\")"
   ]
  },
  {
   "cell_type": "code",
   "execution_count": null,
   "id": "216480f6",
   "metadata": {},
   "outputs": [],
   "source": [
    "element2 = driver.find_elements(By.XPATH, \"/html/body/div[5]/div/div[7]/div/div[4]/div[4]/div/div/div/dl/dd/div\")\n",
    "\n",
    "element2[0].text"
   ]
  }
 ],
 "metadata": {
  "kernelspec": {
   "display_name": "Python 3 (ipykernel)",
   "language": "python",
   "name": "python3"
  },
  "language_info": {
   "codemirror_mode": {
    "name": "ipython",
    "version": 3
   },
   "file_extension": ".py",
   "mimetype": "text/x-python",
   "name": "python",
   "nbconvert_exporter": "python",
   "pygments_lexer": "ipython3",
   "version": "3.9.12"
  }
 },
 "nbformat": 4,
 "nbformat_minor": 5
}
